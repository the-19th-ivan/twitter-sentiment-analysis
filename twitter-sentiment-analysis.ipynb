{
 "cells": [
  {
   "cell_type": "markdown",
   "id": "6047c92c-6bfb-48de-887c-92e63f877701",
   "metadata": {},
   "source": [
    "# Twitter Sentiment Analysis\n",
    "\n",
    "This notebook creates a model that can predict whether a Twitter message is Positive, Negative, or Neutral.\n",
    "\n",
    "## 1. Problem Definition\n",
    "\n",
    ">  Given a message and an entity, the task is to judge the sentiment of the message about the entity.\n",
    "\n",
    "## 2. Data\n",
    "\n",
    "Dataset is from kaggle: https://www.kaggle.com/datasets/jp797498e/twitter-entity-sentiment-analysis\n",
    "\n",
    "This is an entity-level sentiment analysis dataset of twitter. Given a message and an entity, the task is to judge the sentiment of the message about the entity. There are three classes in this dataset: Positive, Negative and Neutral. We regard messages that are not relevant to the entity (i.e. Irrelevant) as Neutral.\n",
    "\n",
    "## 3. Evaluation\n",
    "\n",
    "> If this model can get up to 80% accuracy, we will pursue this into production.\n",
    "\n",
    "## 4. Features\n",
    "\n",
    "1. Tweet ID - the unique identifier of the tweet.\n",
    "2. Borderlands - the entity mentioned in the tweet (topic).\n",
    "3. Sentiment - the sentiment of the tweet towards the entity.\n",
    "   - Positive\n",
    "   - Negative\n",
    "   - Neutral\n",
    "4. Tweet Content - the text of the tweet."
   ]
  },
  {
   "cell_type": "markdown",
   "id": "3210d24d-a1e7-4620-80e2-811c1e48d525",
   "metadata": {},
   "source": [
    "### Preparing the tools"
   ]
  },
  {
   "cell_type": "code",
   "execution_count": 2,
   "id": "3a87957a-c238-4f70-9696-797a8b735f27",
   "metadata": {},
   "outputs": [],
   "source": [
    "import numpy as np\n",
    "import pandas as pd\n",
    "import matplotlib.pyplot as plt\n",
    "\n",
    "# We'll import other libraries later on"
   ]
  },
  {
   "cell_type": "code",
   "execution_count": null,
   "id": "8c78c2c0-c77f-4828-9613-2e4331b6c374",
   "metadata": {},
   "outputs": [],
   "source": []
  }
 ],
 "metadata": {
  "kernelspec": {
   "display_name": "Python 3 (ipykernel)",
   "language": "python",
   "name": "python3"
  },
  "language_info": {
   "codemirror_mode": {
    "name": "ipython",
    "version": 3
   },
   "file_extension": ".py",
   "mimetype": "text/x-python",
   "name": "python",
   "nbconvert_exporter": "python",
   "pygments_lexer": "ipython3",
   "version": "3.11.5"
  }
 },
 "nbformat": 4,
 "nbformat_minor": 5
}
